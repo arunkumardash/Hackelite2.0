{
  "nbformat": 4,
  "nbformat_minor": 0,
  "metadata": {
    "colab": {
      "name": "Pedophile detection.ipynb",
      "provenance": [],
      "collapsed_sections": []
    },
    "kernelspec": {
      "display_name": "Python 3",
      "name": "python3"
    }
  },
  "cells": [
    {
      "cell_type": "markdown",
      "metadata": {
        "id": "EdBnV7VsFB8x"
      },
      "source": [
        "colab of thunderman9795@gmail.com"
      ]
    },
    {
      "cell_type": "code",
      "metadata": {
        "colab": {
          "base_uri": "https://localhost:8080/"
        },
        "id": "2bwoPtoQJed4",
        "outputId": "3c380889-c600-4e5d-f42d-e8c9cbb50714"
      },
      "source": [
        "\r\n",
        "import numpy as np\r\n",
        "import pandas as pd\r\n",
        "import matplotlib.pyplot as plt\r\n",
        "import seaborn as sns\r\n",
        "from sklearn.linear_model import LogisticRegression\r\n",
        "from sklearn.model_selection import train_test_split\r\n",
        "\r\n",
        "# Input data files are available in the \"../input/\" directory.\r\n",
        "# For example, running this (by clicking run or pressing Shift+Enter) will list the files in the input directory\r\n",
        "\r\n",
        "import os\r\n",
        "print(os.listdir(\"/content/data\"))"
      ],
      "execution_count": null,
      "outputs": [
        {
          "output_type": "stream",
          "text": [
            "['train.csv', '.ipynb_checkpoints', 'test.csv']\n"
          ],
          "name": "stdout"
        }
      ]
    },
    {
      "cell_type": "code",
      "metadata": {
        "id": "PIqO9JhIFkxC"
      },
      "source": [
        "\r\n",
        "df = pd.read_csv(\"/content/data/test.csv\")"
      ],
      "execution_count": null,
      "outputs": []
    },
    {
      "cell_type": "code",
      "metadata": {
        "colab": {
          "base_uri": "https://localhost:8080/",
          "height": 299
        },
        "id": "bYukLZOzMSSI",
        "outputId": "0c5a6fb8-5c05-45ea-ed4c-798a489acbaa"
      },
      "source": [
        "\r\n",
        "df.head()"
      ],
      "execution_count": null,
      "outputs": [
        {
          "output_type": "execute_result",
          "data": {
            "text/html": [
              "<div>\n",
              "<style scoped>\n",
              "    .dataframe tbody tr th:only-of-type {\n",
              "        vertical-align: middle;\n",
              "    }\n",
              "\n",
              "    .dataframe tbody tr th {\n",
              "        vertical-align: top;\n",
              "    }\n",
              "\n",
              "    .dataframe thead th {\n",
              "        text-align: right;\n",
              "    }\n",
              "</style>\n",
              "<table border=\"1\" class=\"dataframe\">\n",
              "  <thead>\n",
              "    <tr style=\"text-align: right;\">\n",
              "      <th></th>\n",
              "      <th>autor</th>\n",
              "      <th>number of conversation</th>\n",
              "      <th>percent of conversations started by the author</th>\n",
              "      <th>difference between two preceding lines in seconds</th>\n",
              "      <th>number of messages sent</th>\n",
              "      <th>average percent of lines in conversation</th>\n",
              "      <th>average percent of characters in conversation</th>\n",
              "      <th>number of characters sent by the author</th>\n",
              "      <th>mean time of messages sent</th>\n",
              "      <th>number of unique contacted authors</th>\n",
              "      <th>avg number of unique authors interacted with per conversation</th>\n",
              "      <th>total unique authors and unique per chat difference</th>\n",
              "      <th>conversation num and total unique authors difference</th>\n",
              "      <th>average question marks per conversations</th>\n",
              "      <th>total question marks</th>\n",
              "      <th>total author question marks</th>\n",
              "      <th>avg author question marks</th>\n",
              "      <th>author and conversation quetsion mark differnece</th>\n",
              "      <th>author total negative in author conv</th>\n",
              "      <th>author total neutral in author conv</th>\n",
              "      <th>author total positive in author conv</th>\n",
              "      <th>authortotal compound in author conv</th>\n",
              "      <th>pos word count author</th>\n",
              "      <th>neg word count author</th>\n",
              "      <th>prof word count author</th>\n",
              "      <th>is sexual predator</th>\n",
              "    </tr>\n",
              "  </thead>\n",
              "  <tbody>\n",
              "    <tr>\n",
              "      <th>0</th>\n",
              "      <td>0bd1058873b5a188883f69af49d4f526</td>\n",
              "      <td>1</td>\n",
              "      <td>0.0</td>\n",
              "      <td>30.0</td>\n",
              "      <td>3</td>\n",
              "      <td>0.600000</td>\n",
              "      <td>0.600000</td>\n",
              "      <td>9</td>\n",
              "      <td>960</td>\n",
              "      <td>2</td>\n",
              "      <td>2</td>\n",
              "      <td>0</td>\n",
              "      <td>1</td>\n",
              "      <td>0</td>\n",
              "      <td>0</td>\n",
              "      <td>0</td>\n",
              "      <td>0</td>\n",
              "      <td>0</td>\n",
              "      <td>0.0</td>\n",
              "      <td>1.0</td>\n",
              "      <td>0.0</td>\n",
              "      <td>0.0</td>\n",
              "      <td>0</td>\n",
              "      <td>0</td>\n",
              "      <td>0</td>\n",
              "      <td>0</td>\n",
              "    </tr>\n",
              "    <tr>\n",
              "      <th>1</th>\n",
              "      <td>0bd137b1a18ad9b5ac99b9ace16c43d1</td>\n",
              "      <td>1</td>\n",
              "      <td>0.0</td>\n",
              "      <td>30.0</td>\n",
              "      <td>3</td>\n",
              "      <td>0.750000</td>\n",
              "      <td>0.526316</td>\n",
              "      <td>10</td>\n",
              "      <td>300</td>\n",
              "      <td>2</td>\n",
              "      <td>2</td>\n",
              "      <td>0</td>\n",
              "      <td>1</td>\n",
              "      <td>2</td>\n",
              "      <td>2</td>\n",
              "      <td>1</td>\n",
              "      <td>1</td>\n",
              "      <td>1</td>\n",
              "      <td>0.0</td>\n",
              "      <td>1.0</td>\n",
              "      <td>0.0</td>\n",
              "      <td>0.0</td>\n",
              "      <td>0</td>\n",
              "      <td>0</td>\n",
              "      <td>0</td>\n",
              "      <td>0</td>\n",
              "    </tr>\n",
              "    <tr>\n",
              "      <th>2</th>\n",
              "      <td>0bd16e648dd9eddfe281397c1d2c573e</td>\n",
              "      <td>1</td>\n",
              "      <td>0.0</td>\n",
              "      <td>0.0</td>\n",
              "      <td>2</td>\n",
              "      <td>0.500000</td>\n",
              "      <td>0.600000</td>\n",
              "      <td>6</td>\n",
              "      <td>13560</td>\n",
              "      <td>2</td>\n",
              "      <td>2</td>\n",
              "      <td>0</td>\n",
              "      <td>1</td>\n",
              "      <td>1</td>\n",
              "      <td>1</td>\n",
              "      <td>1</td>\n",
              "      <td>1</td>\n",
              "      <td>0</td>\n",
              "      <td>0.0</td>\n",
              "      <td>1.0</td>\n",
              "      <td>0.0</td>\n",
              "      <td>0.0</td>\n",
              "      <td>0</td>\n",
              "      <td>0</td>\n",
              "      <td>0</td>\n",
              "      <td>0</td>\n",
              "    </tr>\n",
              "    <tr>\n",
              "      <th>3</th>\n",
              "      <td>0bd1d040a8ded22218e70a962354d6fc</td>\n",
              "      <td>1</td>\n",
              "      <td>0.0</td>\n",
              "      <td>0.0</td>\n",
              "      <td>2</td>\n",
              "      <td>0.500000</td>\n",
              "      <td>0.360000</td>\n",
              "      <td>9</td>\n",
              "      <td>57960</td>\n",
              "      <td>2</td>\n",
              "      <td>2</td>\n",
              "      <td>0</td>\n",
              "      <td>1</td>\n",
              "      <td>2</td>\n",
              "      <td>2</td>\n",
              "      <td>1</td>\n",
              "      <td>1</td>\n",
              "      <td>1</td>\n",
              "      <td>0.0</td>\n",
              "      <td>1.0</td>\n",
              "      <td>0.0</td>\n",
              "      <td>0.0</td>\n",
              "      <td>0</td>\n",
              "      <td>0</td>\n",
              "      <td>0</td>\n",
              "      <td>0</td>\n",
              "    </tr>\n",
              "    <tr>\n",
              "      <th>4</th>\n",
              "      <td>0bd1d1022a36c48dcee514fc3a06127a</td>\n",
              "      <td>1</td>\n",
              "      <td>1.0</td>\n",
              "      <td>0.0</td>\n",
              "      <td>2</td>\n",
              "      <td>0.666667</td>\n",
              "      <td>0.087912</td>\n",
              "      <td>8</td>\n",
              "      <td>40380</td>\n",
              "      <td>2</td>\n",
              "      <td>2</td>\n",
              "      <td>0</td>\n",
              "      <td>1</td>\n",
              "      <td>2</td>\n",
              "      <td>2</td>\n",
              "      <td>1</td>\n",
              "      <td>1</td>\n",
              "      <td>1</td>\n",
              "      <td>0.0</td>\n",
              "      <td>1.0</td>\n",
              "      <td>0.0</td>\n",
              "      <td>0.0</td>\n",
              "      <td>0</td>\n",
              "      <td>0</td>\n",
              "      <td>0</td>\n",
              "      <td>0</td>\n",
              "    </tr>\n",
              "  </tbody>\n",
              "</table>\n",
              "</div>"
            ],
            "text/plain": [
              "                              autor  ...  is sexual predator\n",
              "0  0bd1058873b5a188883f69af49d4f526  ...                   0\n",
              "1  0bd137b1a18ad9b5ac99b9ace16c43d1  ...                   0\n",
              "2  0bd16e648dd9eddfe281397c1d2c573e  ...                   0\n",
              "3  0bd1d040a8ded22218e70a962354d6fc  ...                   0\n",
              "4  0bd1d1022a36c48dcee514fc3a06127a  ...                   0\n",
              "\n",
              "[5 rows x 26 columns]"
            ]
          },
          "metadata": {
            "tags": []
          },
          "execution_count": 22
        }
      ]
    },
    {
      "cell_type": "code",
      "metadata": {
        "id": "UD5hDT1bN5DZ"
      },
      "source": [
        "df.rename(columns = {'is sexual predator':'target','number of conversation':''}, inplace = True)\r\n"
      ],
      "execution_count": null,
      "outputs": []
    },
    {
      "cell_type": "code",
      "metadata": {
        "colab": {
          "base_uri": "https://localhost:8080/",
          "height": 132
        },
        "id": "5TwjNyUtMZIB",
        "outputId": "93209224-ee4e-42fe-bfbe-a58826c094eb"
      },
      "source": [
        "df.target.value_counts()"
      ],
      "execution_count": null,
      "outputs": [
        {
          "output_type": "error",
          "ename": "SyntaxError",
          "evalue": "ignored",
          "traceback": [
            "\u001b[0;36m  File \u001b[0;32m\"<ipython-input-40-bdf7203060a4>\"\u001b[0;36m, line \u001b[0;32m1\u001b[0m\n\u001b[0;31m    df.\"number of conversation\".value_counts()\u001b[0m\n\u001b[0m                              ^\u001b[0m\n\u001b[0;31mSyntaxError\u001b[0m\u001b[0;31m:\u001b[0m invalid syntax\n"
          ]
        }
      ]
    },
    {
      "cell_type": "code",
      "metadata": {
        "colab": {
          "base_uri": "https://localhost:8080/",
          "height": 279
        },
        "id": "czZloL-iRcme",
        "outputId": "ed2380fc-d0a9-4cf1-937e-214a533f5efa"
      },
      "source": [
        "sns.countplot(x=\"target\", data=df, palette=\"bwr\")\r\n",
        "plt.show()"
      ],
      "execution_count": null,
      "outputs": [
        {
          "output_type": "display_data",
          "data": {
            "image/png": "[encoded data removed]",
            "text/plain": [
              "<Figure size 432x288 with 1 Axes>"
            ]
          },
          "metadata": {
            "tags": []
          }
        }
      ]
    },
    {
      "cell_type": "code",
      "metadata": {
        "colab": {
          "base_uri": "https://localhost:8080/",
          "height": 240
        },
        "id": "zAQ2Dn6IR1XE",
        "outputId": "f5d1d997-0f78-4427-ecd8-f674ad358098"
      },
      "source": [
        "df.groupby('target').mean()"
      ],
      "execution_count": null,
      "outputs": [
        {
          "output_type": "execute_result",
          "data": {
            "text/html": [
              "<div>\n",
              "<style scoped>\n",
              "    .dataframe tbody tr th:only-of-type {\n",
              "        vertical-align: middle;\n",
              "    }\n",
              "\n",
              "    .dataframe tbody tr th {\n",
              "        vertical-align: top;\n",
              "    }\n",
              "\n",
              "    .dataframe thead th {\n",
              "        text-align: right;\n",
              "    }\n",
              "</style>\n",
              "<table border=\"1\" class=\"dataframe\">\n",
              "  <thead>\n",
              "    <tr style=\"text-align: right;\">\n",
              "      <th></th>\n",
              "      <th>number of conversation</th>\n",
              "      <th>percent of conversations started by the author</th>\n",
              "      <th>difference between two preceding lines in seconds</th>\n",
              "      <th>number of messages sent</th>\n",
              "      <th>average percent of lines in conversation</th>\n",
              "      <th>average percent of characters in conversation</th>\n",
              "      <th>number of characters sent by the author</th>\n",
              "      <th>mean time of messages sent</th>\n",
              "      <th>number of unique contacted authors</th>\n",
              "      <th>avg number of unique authors interacted with per conversation</th>\n",
              "      <th>total unique authors and unique per chat difference</th>\n",
              "      <th>conversation num and total unique authors difference</th>\n",
              "      <th>average question marks per conversations</th>\n",
              "      <th>total question marks</th>\n",
              "      <th>total author question marks</th>\n",
              "      <th>avg author question marks</th>\n",
              "      <th>author and conversation quetsion mark differnece</th>\n",
              "      <th>author total negative in author conv</th>\n",
              "      <th>author total neutral in author conv</th>\n",
              "      <th>author total positive in author conv</th>\n",
              "      <th>authortotal compound in author conv</th>\n",
              "      <th>pos word count author</th>\n",
              "      <th>neg word count author</th>\n",
              "      <th>prof word count author</th>\n",
              "    </tr>\n",
              "    <tr>\n",
              "      <th>target</th>\n",
              "      <th></th>\n",
              "      <th></th>\n",
              "      <th></th>\n",
              "      <th></th>\n",
              "      <th></th>\n",
              "      <th></th>\n",
              "      <th></th>\n",
              "      <th></th>\n",
              "      <th></th>\n",
              "      <th></th>\n",
              "      <th></th>\n",
              "      <th></th>\n",
              "      <th></th>\n",
              "      <th></th>\n",
              "      <th></th>\n",
              "      <th></th>\n",
              "      <th></th>\n",
              "      <th></th>\n",
              "      <th></th>\n",
              "      <th></th>\n",
              "      <th></th>\n",
              "      <th></th>\n",
              "      <th></th>\n",
              "      <th></th>\n",
              "    </tr>\n",
              "  </thead>\n",
              "  <tbody>\n",
              "    <tr>\n",
              "      <th>0</th>\n",
              "      <td>1.576999</td>\n",
              "      <td>0.488495</td>\n",
              "      <td>131.442696</td>\n",
              "      <td>9.116383</td>\n",
              "      <td>0.484934</td>\n",
              "      <td>0.485296</td>\n",
              "      <td>360.388615</td>\n",
              "      <td>42831.559739</td>\n",
              "      <td>4.343086</td>\n",
              "      <td>2.688230</td>\n",
              "      <td>1.654856</td>\n",
              "      <td>3.097674</td>\n",
              "      <td>3.310926</td>\n",
              "      <td>7.663664</td>\n",
              "      <td>1.717324</td>\n",
              "      <td>1.098926</td>\n",
              "      <td>5.946339</td>\n",
              "      <td>0.029251</td>\n",
              "      <td>0.913930</td>\n",
              "      <td>0.055155</td>\n",
              "      <td>0.076102</td>\n",
              "      <td>1.364577</td>\n",
              "      <td>0.726823</td>\n",
              "      <td>0.137361</td>\n",
              "    </tr>\n",
              "    <tr>\n",
              "      <th>1</th>\n",
              "      <td>14.946939</td>\n",
              "      <td>0.810898</td>\n",
              "      <td>2310.169602</td>\n",
              "      <td>260.624490</td>\n",
              "      <td>0.717131</td>\n",
              "      <td>0.744744</td>\n",
              "      <td>6153.322449</td>\n",
              "      <td>62707.591837</td>\n",
              "      <td>1.942857</td>\n",
              "      <td>0.297959</td>\n",
              "      <td>1.644898</td>\n",
              "      <td>13.216327</td>\n",
              "      <td>5.342857</td>\n",
              "      <td>67.155102</td>\n",
              "      <td>36.942857</td>\n",
              "      <td>2.963265</td>\n",
              "      <td>30.212245</td>\n",
              "      <td>0.049216</td>\n",
              "      <td>0.828547</td>\n",
              "      <td>0.122245</td>\n",
              "      <td>0.714145</td>\n",
              "      <td>47.102041</td>\n",
              "      <td>16.106122</td>\n",
              "      <td>3.167347</td>\n",
              "    </tr>\n",
              "  </tbody>\n",
              "</table>\n",
              "</div>"
            ],
            "text/plain": [
              "        number of conversation  ...  prof word count author\n",
              "target                          ...                        \n",
              "0                     1.576999  ...                0.137361\n",
              "1                    14.946939  ...                3.167347\n",
              "\n",
              "[2 rows x 24 columns]"
            ]
          },
          "metadata": {
            "tags": []
          },
          "execution_count": 42
        }
      ]
    },
    {
      "cell_type": "code",
      "metadata": {
        "id": "SmERlUTrSEPd"
      },
      "source": [
        "y = df.target.values\r\n",
        "x_data = df.drop(['target'], axis = 1)\r\n",
        "x_data = x_data.drop(['autor'], axis = 1)"
      ],
      "execution_count": null,
      "outputs": []
    },
    {
      "cell_type": "code",
      "metadata": {
        "colab": {
          "base_uri": "https://localhost:8080/",
          "height": 299
        },
        "id": "S9J-64xBUaFF",
        "outputId": "9dfb5de0-15f0-410c-e388-af63ce7c997d"
      },
      "source": [
        "x_data.head()"
      ],
      "execution_count": null,
      "outputs": [
        {
          "output_type": "execute_result",
          "data": {
            "text/html": [
              "<div>\n",
              "<style scoped>\n",
              "    .dataframe tbody tr th:only-of-type {\n",
              "        vertical-align: middle;\n",
              "    }\n",
              "\n",
              "    .dataframe tbody tr th {\n",
              "        vertical-align: top;\n",
              "    }\n",
              "\n",
              "    .dataframe thead th {\n",
              "        text-align: right;\n",
              "    }\n",
              "</style>\n",
              "<table border=\"1\" class=\"dataframe\">\n",
              "  <thead>\n",
              "    <tr style=\"text-align: right;\">\n",
              "      <th></th>\n",
              "      <th>number of conversation</th>\n",
              "      <th>percent of conversations started by the author</th>\n",
              "      <th>difference between two preceding lines in seconds</th>\n",
              "      <th>number of messages sent</th>\n",
              "      <th>average percent of lines in conversation</th>\n",
              "      <th>average percent of characters in conversation</th>\n",
              "      <th>number of characters sent by the author</th>\n",
              "      <th>mean time of messages sent</th>\n",
              "      <th>number of unique contacted authors</th>\n",
              "      <th>avg number of unique authors interacted with per conversation</th>\n",
              "      <th>total unique authors and unique per chat difference</th>\n",
              "      <th>conversation num and total unique authors difference</th>\n",
              "      <th>average question marks per conversations</th>\n",
              "      <th>total question marks</th>\n",
              "      <th>total author question marks</th>\n",
              "      <th>avg author question marks</th>\n",
              "      <th>author and conversation quetsion mark differnece</th>\n",
              "      <th>author total negative in author conv</th>\n",
              "      <th>author total neutral in author conv</th>\n",
              "      <th>author total positive in author conv</th>\n",
              "      <th>authortotal compound in author conv</th>\n",
              "      <th>pos word count author</th>\n",
              "      <th>neg word count author</th>\n",
              "      <th>prof word count author</th>\n",
              "    </tr>\n",
              "  </thead>\n",
              "  <tbody>\n",
              "    <tr>\n",
              "      <th>0</th>\n",
              "      <td>1</td>\n",
              "      <td>0.0</td>\n",
              "      <td>30.0</td>\n",
              "      <td>3</td>\n",
              "      <td>0.600000</td>\n",
              "      <td>0.600000</td>\n",
              "      <td>9</td>\n",
              "      <td>960</td>\n",
              "      <td>2</td>\n",
              "      <td>2</td>\n",
              "      <td>0</td>\n",
              "      <td>1</td>\n",
              "      <td>0</td>\n",
              "      <td>0</td>\n",
              "      <td>0</td>\n",
              "      <td>0</td>\n",
              "      <td>0</td>\n",
              "      <td>0.0</td>\n",
              "      <td>1.0</td>\n",
              "      <td>0.0</td>\n",
              "      <td>0.0</td>\n",
              "      <td>0</td>\n",
              "      <td>0</td>\n",
              "      <td>0</td>\n",
              "    </tr>\n",
              "    <tr>\n",
              "      <th>1</th>\n",
              "      <td>1</td>\n",
              "      <td>0.0</td>\n",
              "      <td>30.0</td>\n",
              "      <td>3</td>\n",
              "      <td>0.750000</td>\n",
              "      <td>0.526316</td>\n",
              "      <td>10</td>\n",
              "      <td>300</td>\n",
              "      <td>2</td>\n",
              "      <td>2</td>\n",
              "      <td>0</td>\n",
              "      <td>1</td>\n",
              "      <td>2</td>\n",
              "      <td>2</td>\n",
              "      <td>1</td>\n",
              "      <td>1</td>\n",
              "      <td>1</td>\n",
              "      <td>0.0</td>\n",
              "      <td>1.0</td>\n",
              "      <td>0.0</td>\n",
              "      <td>0.0</td>\n",
              "      <td>0</td>\n",
              "      <td>0</td>\n",
              "      <td>0</td>\n",
              "    </tr>\n",
              "    <tr>\n",
              "      <th>2</th>\n",
              "      <td>1</td>\n",
              "      <td>0.0</td>\n",
              "      <td>0.0</td>\n",
              "      <td>2</td>\n",
              "      <td>0.500000</td>\n",
              "      <td>0.600000</td>\n",
              "      <td>6</td>\n",
              "      <td>13560</td>\n",
              "      <td>2</td>\n",
              "      <td>2</td>\n",
              "      <td>0</td>\n",
              "      <td>1</td>\n",
              "      <td>1</td>\n",
              "      <td>1</td>\n",
              "      <td>1</td>\n",
              "      <td>1</td>\n",
              "      <td>0</td>\n",
              "      <td>0.0</td>\n",
              "      <td>1.0</td>\n",
              "      <td>0.0</td>\n",
              "      <td>0.0</td>\n",
              "      <td>0</td>\n",
              "      <td>0</td>\n",
              "      <td>0</td>\n",
              "    </tr>\n",
              "    <tr>\n",
              "      <th>3</th>\n",
              "      <td>1</td>\n",
              "      <td>0.0</td>\n",
              "      <td>0.0</td>\n",
              "      <td>2</td>\n",
              "      <td>0.500000</td>\n",
              "      <td>0.360000</td>\n",
              "      <td>9</td>\n",
              "      <td>57960</td>\n",
              "      <td>2</td>\n",
              "      <td>2</td>\n",
              "      <td>0</td>\n",
              "      <td>1</td>\n",
              "      <td>2</td>\n",
              "      <td>2</td>\n",
              "      <td>1</td>\n",
              "      <td>1</td>\n",
              "      <td>1</td>\n",
              "      <td>0.0</td>\n",
              "      <td>1.0</td>\n",
              "      <td>0.0</td>\n",
              "      <td>0.0</td>\n",
              "      <td>0</td>\n",
              "      <td>0</td>\n",
              "      <td>0</td>\n",
              "    </tr>\n",
              "    <tr>\n",
              "      <th>4</th>\n",
              "      <td>1</td>\n",
              "      <td>1.0</td>\n",
              "      <td>0.0</td>\n",
              "      <td>2</td>\n",
              "      <td>0.666667</td>\n",
              "      <td>0.087912</td>\n",
              "      <td>8</td>\n",
              "      <td>40380</td>\n",
              "      <td>2</td>\n",
              "      <td>2</td>\n",
              "      <td>0</td>\n",
              "      <td>1</td>\n",
              "      <td>2</td>\n",
              "      <td>2</td>\n",
              "      <td>1</td>\n",
              "      <td>1</td>\n",
              "      <td>1</td>\n",
              "      <td>0.0</td>\n",
              "      <td>1.0</td>\n",
              "      <td>0.0</td>\n",
              "      <td>0.0</td>\n",
              "      <td>0</td>\n",
              "      <td>0</td>\n",
              "      <td>0</td>\n",
              "    </tr>\n",
              "  </tbody>\n",
              "</table>\n",
              "</div>"
            ],
            "text/plain": [
              "   number of conversation  ...  prof word count author\n",
              "0                       1  ...                       0\n",
              "1                       1  ...                       0\n",
              "2                       1  ...                       0\n",
              "3                       1  ...                       0\n",
              "4                       1  ...                       0\n",
              "\n",
              "[5 rows x 24 columns]"
            ]
          },
          "metadata": {
            "tags": []
          },
          "execution_count": 52
        }
      ]
    },
    {
      "cell_type": "code",
      "metadata": {
        "id": "YA8I5wrSUaC7"
      },
      "source": [
        ""
      ],
      "execution_count": null,
      "outputs": []
    },
    {
      "cell_type": "code",
      "metadata": {
        "id": "6G3x6_Y_SQhL"
      },
      "source": [
        "\r\n",
        "x = (x_data - np.min(x_data)) / (np.max(x_data) - np.min(x_data)).values\r\n"
      ],
      "execution_count": null,
      "outputs": []
    },
    {
      "cell_type": "code",
      "metadata": {
        "id": "qk39O7goU_2o"
      },
      "source": [
        "x_train, x_test, y_train, y_test = train_test_split(x,y,test_size = 0.2,random_state=0)"
      ],
      "execution_count": null,
      "outputs": []
    },
    {
      "cell_type": "code",
      "metadata": {
        "id": "xJ0z7sy8VMQA"
      },
      "source": [
        "\r\n",
        "x_train = x_train.T\r\n",
        "y_train = y_train.T\r\n",
        "x_test = x_test.T\r\n",
        "y_test = y_test.T"
      ],
      "execution_count": null,
      "outputs": []
    },
    {
      "cell_type": "code",
      "metadata": {
        "id": "RWRa-vmCVnB2"
      },
      "source": [
        "def initialize(dimension):\r\n",
        "    \r\n",
        "    weight = np.full((dimension,1),0.01)\r\n",
        "    bias = 0.0\r\n",
        "    return weight,bias"
      ],
      "execution_count": null,
      "outputs": []
    },
    {
      "cell_type": "code",
      "metadata": {
        "id": "KJlOJUrQVm2e"
      },
      "source": [
        "def sigmoid(z):\r\n",
        "    \r\n",
        "    y_head = 1/(1+ np.exp(-z))\r\n",
        "    return y_head\r\n"
      ],
      "execution_count": null,
      "outputs": []
    },
    {
      "cell_type": "code",
      "metadata": {
        "id": "HxHa0kLxV_RL"
      },
      "source": [
        "def forwardBackward(weight,bias,x_train,y_train):\r\n",
        "    # Forward\r\n",
        "    \r\n",
        "    y_head = sigmoid(np.dot(weight.T,x_train) + bias)\r\n",
        "    loss = -(y_train*np.log(y_head) + (1-y_train)*np.log(1-y_head))\r\n",
        "    cost = np.sum(loss) / x_train.shape[1]\r\n",
        "    \r\n",
        "    # Backward\r\n",
        "    derivative_weight = np.dot(x_train,((y_head-y_train).T))/x_train.shape[1]\r\n",
        "    derivative_bias = np.sum(y_head-y_train)/x_train.shape[1]\r\n",
        "    gradients = {\"Derivative Weight\" : derivative_weight, \"Derivative Bias\" : derivative_bias}\r\n",
        "    \r\n",
        "    return cost,gradients"
      ],
      "execution_count": null,
      "outputs": []
    },
    {
      "cell_type": "code",
      "metadata": {
        "id": "DwyInWNNP9zl"
      },
      "source": [
        "def update(weight,bias,x_train,y_train,learningRate,iteration) :\r\n",
        "    costList = []\r\n",
        "    index = []\r\n",
        "    \r\n",
        "    #for each iteration, update weight and bias values\r\n",
        "    for i in range(iteration):\r\n",
        "        cost,gradients = forwardBackward(weight,bias,x_train,y_train)\r\n",
        "        weight = weight - learningRate * gradients[\"Derivative Weight\"]\r\n",
        "        bias = bias - learningRate * gradients[\"Derivative Bias\"]\r\n",
        "        \r\n",
        "        costList.append(cost)\r\n",
        "        index.append(i)\r\n",
        "\r\n",
        "    parameters = {\"weight\": weight,\"bias\": bias}\r\n",
        "    return parameters, gradients"
      ],
      "execution_count": null,
      "outputs": []
    },
    {
      "cell_type": "code",
      "metadata": {
        "id": "GvC6-Wx0WhsE"
      },
      "source": [
        "def predict(weight,bias,x_test):\r\n",
        "    z = np.dot(weight.T,x_test) + bias\r\n",
        "    y_head = sigmoid(z)\r\n",
        "\r\n",
        "    y_prediction = np.zeros((1,x_test.shape[1]))\r\n",
        "    \r\n",
        "    for i in range(y_head.shape[1]):\r\n",
        "        if y_head[0,i] <= 0.5:\r\n",
        "            y_prediction[0,i] = 0\r\n",
        "        else:\r\n",
        "            y_prediction[0,i] = 1\r\n",
        "    return y_prediction"
      ],
      "execution_count": null,
      "outputs": []
    },
    {
      "cell_type": "code",
      "metadata": {
        "id": "M9Zi16iIWhls"
      },
      "source": [
        "def logistic_regression(x_train,y_train,x_test,y_test,learningRate,iteration):\r\n",
        "    dimension = x_train.shape[0]\r\n",
        "    weight,bias = initialize(dimension)\r\n",
        "    \r\n",
        "    parameters, gradients = update(weight,bias,x_train,y_train,learningRate,iteration)\r\n",
        "\r\n",
        "    y_prediction = predict(parameters[\"weight\"],parameters[\"bias\"],x_test)\r\n",
        "    \r\n",
        "    print(\"Manuel Test Accuracy: {:.2f}%\".format((100 - np.mean(np.abs(y_prediction - y_test))*100)))"
      ],
      "execution_count": null,
      "outputs": []
    },
    {
      "cell_type": "code",
      "metadata": {
        "colab": {
          "base_uri": "https://localhost:8080/"
        },
        "id": "jKwxTCuLWqrA",
        "outputId": "b3dfa88c-b383-490f-9d7a-d727c7e2414d"
      },
      "source": [
        "logistic_regression(x_train,y_train,x_test,y_test,1,100)"
      ],
      "execution_count": null,
      "outputs": [
        {
          "output_type": "stream",
          "text": [
            "Manuel Test Accuracy: 99.89%\n"
          ],
          "name": "stdout"
        }
      ]
    },
    {
      "cell_type": "code",
      "metadata": {
        "colab": {
          "base_uri": "https://localhost:8080/"
        },
        "id": "bCEd1wxjWqiS",
        "outputId": "351aa175-9b9a-48db-eef9-d0ce7a589ce9"
      },
      "source": [
        "accuracies = {}\r\n",
        "\r\n",
        "lr = LogisticRegression()\r\n",
        "lr.fit(x_train.T,y_train.T)\r\n",
        "acc = lr.score(x_test.T,y_test.T)*100\r\n",
        "\r\n",
        "accuracies['Logistic Regression'] = acc\r\n",
        "print(\"Test Accuracy {:.2f}%\".format(acc))"
      ],
      "execution_count": null,
      "outputs": [
        {
          "output_type": "stream",
          "text": [
            "Test Accuracy 99.89%\n"
          ],
          "name": "stdout"
        }
      ]
    },
    {
      "cell_type": "code",
      "metadata": {
        "colab": {
          "base_uri": "https://localhost:8080/"
        },
        "id": "XIwA_UEsWqas",
        "outputId": "2314f2b7-d3cf-4e24-a0a2-4f5b0473c531"
      },
      "source": [
        "# KNN Model\r\n",
        "from sklearn.neighbors import KNeighborsClassifier\r\n",
        "knn = KNeighborsClassifier(n_neighbors = 2)  # n_neighbors means k\r\n",
        "knn.fit(x_train.T, y_train.T)\r\n",
        "prediction = knn.predict(x_test.T)\r\n",
        "\r\n",
        "print(\"{} NN Score: {:.2f}%\".format(2, knn.score(x_test.T, y_test.T)*100))"
      ],
      "execution_count": null,
      "outputs": [
        {
          "output_type": "stream",
          "text": [
            "2 NN Score: 99.91%\n"
          ],
          "name": "stdout"
        }
      ]
    },
    {
      "cell_type": "code",
      "metadata": {
        "colab": {
          "background_save": true
        },
        "id": "Nq8zdIYFWhfC",
        "outputId": "ce8fdbc7-6e9a-4ff7-f4e3-77937df2fbaa"
      },
      "source": [
        "# try ro find best k value\r\n",
        "scoreList = []\r\n",
        "for i in range(1,20):\r\n",
        "    knn2 = KNeighborsClassifier(n_neighbors = i)  # n_neighbors means k\r\n",
        "    knn2.fit(x_train.T, y_train.T)\r\n",
        "    scoreList.append(knn2.score(x_test.T, y_test.T))\r\n",
        "    \r\n",
        "plt.plot(range(1,20), scoreList)\r\n",
        "plt.xticks(np.arange(1,20,1))\r\n",
        "plt.xlabel(\"K value\")\r\n",
        "plt.ylabel(\"Score\")\r\n",
        "plt.show()\r\n",
        "\r\n",
        "acc = max(scoreList)*100\r\n",
        "accuracies['KNN'] = acc\r\n",
        "print(\"Maximum KNN Score is {:.2f}%\".format(acc))"
      ],
      "execution_count": null,
      "outputs": [
        {
          "output_type": "display_data",
          "data": {
            "image/png": "[encoded data removed]",
            "text/plain": [
              "<Figure size 432x288 with 1 Axes>"
            ]
          },
          "metadata": {
            "tags": []
          }
        },
        {
          "output_type": "stream",
          "text": [
            "Maximum KNN Score is 99.91%\n"
          ],
          "name": "stdout"
        }
      ]
    },
    {
      "cell_type": "code",
      "metadata": {
        "colab": {
          "base_uri": "https://localhost:8080/"
        },
        "id": "55xDXPfTXh0y",
        "outputId": "92223031-61f3-4a01-8c8d-3ffcf376e7fe"
      },
      "source": [
        "from sklearn.svm import SVC\r\n",
        "svm = SVC(random_state = 1)\r\n",
        "svm.fit(x_train.T, y_train.T)\r\n",
        "\r\n",
        "acc = svm.score(x_test.T,y_test.T)*100\r\n",
        "accuracies['SVM'] = acc\r\n",
        "print(\"Test Accuracy of SVM Algorithm: {:.2f}%\".format(acc))"
      ],
      "execution_count": null,
      "outputs": [
        {
          "output_type": "stream",
          "text": [
            "Test Accuracy of SVM Algorithm: 99.89%\n"
          ],
          "name": "stdout"
        }
      ]
    },
    {
      "cell_type": "code",
      "metadata": {
        "id": "9nN6p1zS3yJ-"
      },
      "source": [
        "import pickle"
      ],
      "execution_count": null,
      "outputs": []
    },
    {
      "cell_type": "code",
      "metadata": {
        "id": "U37nexcx36Ca"
      },
      "source": [
        "pickle.dump(svm, open('svmmodel.pkl','wb'))"
      ],
      "execution_count": null,
      "outputs": []
    },
    {
      "cell_type": "code",
      "metadata": {
        "id": "VbcfkJhWXhnk",
        "colab": {
          "base_uri": "https://localhost:8080/"
        },
        "outputId": "38f24e53-44c2-4c71-e8e7-f7681bce422e"
      },
      "source": [
        "from sklearn.naive_bayes import GaussianNB\r\n",
        "nb = GaussianNB()\r\n",
        "nb.fit(x_train.T, y_train.T)\r\n",
        "\r\n",
        "acc = nb.score(x_test.T,y_test.T)*100\r\n",
        "accuracies['Naive Bayes'] = acc\r\n",
        "print(\"Accuracy of Naive Bayes: {:.2f}%\".format(acc))"
      ],
      "execution_count": null,
      "outputs": [
        {
          "output_type": "stream",
          "text": [
            "Accuracy of Naive Bayes: 98.86%\n"
          ],
          "name": "stdout"
        }
      ]
    },
    {
      "cell_type": "code",
      "metadata": {
        "id": "nyDHaC5UXhXx",
        "colab": {
          "base_uri": "https://localhost:8080/"
        },
        "outputId": "cc6d83f3-9094-4762-e604-f35102ab70f6"
      },
      "source": [
        "from sklearn.tree import DecisionTreeClassifier\r\n",
        "dtc = DecisionTreeClassifier()\r\n",
        "dtc.fit(x_train.T, y_train.T)\r\n",
        "\r\n",
        "acc = dtc.score(x_test.T, y_test.T)*100\r\n",
        "accuracies['Decision Tree'] = acc\r\n",
        "print(\"Decision Tree Test Accuracy {:.2f}%\".format(acc))"
      ],
      "execution_count": null,
      "outputs": [
        {
          "output_type": "stream",
          "text": [
            "Decision Tree Test Accuracy 99.91%\n"
          ],
          "name": "stdout"
        }
      ]
    },
    {
      "cell_type": "code",
      "metadata": {
        "id": "iFAvVJ1veJxW",
        "colab": {
          "base_uri": "https://localhost:8080/"
        },
        "outputId": "daae0b41-2614-46e2-a59e-1a82b4ba3fa8"
      },
      "source": [
        "# Random Forest Classification\r\n",
        "from sklearn.ensemble import RandomForestClassifier\r\n",
        "rf = RandomForestClassifier(n_estimators = 1000, random_state = 1)\r\n",
        "rf.fit(x_train.T, y_train.T)\r\n",
        "\r\n",
        "acc = rf.score(x_test.T,y_test.T)*100\r\n",
        "accuracies['Random Forest'] = acc\r\n",
        "print(\"Random Forest Algorithm Accuracy Score : {:.2f}%\".format(acc))"
      ],
      "execution_count": null,
      "outputs": [
        {
          "output_type": "stream",
          "text": [
            "Random Forest Algorithm Accuracy Score : 99.93%\n"
          ],
          "name": "stdout"
        }
      ]
    },
    {
      "cell_type": "code",
      "metadata": {
        "id": "EdRGvahmeQrH",
        "colab": {
          "base_uri": "https://localhost:8080/",
          "height": 334
        },
        "outputId": "d31af10f-a633-4dea-f1a4-12a53acbecd6"
      },
      "source": [
        "colors = [\"purple\", \"green\", \"orange\", \"magenta\",\"#CFC60E\",\"#0FBBAE\"]\r\n",
        "\r\n",
        "sns.set_style(\"whitegrid\")\r\n",
        "plt.figure(figsize=(16,5))\r\n",
        "plt.yticks(np.arange(0,100,10))\r\n",
        "plt.ylabel(\"Accuracy %\")\r\n",
        "plt.xlabel(\"Algorithms\")\r\n",
        "sns.barplot(x=list(accuracies.keys()), y=list(accuracies.values()), palette=colors)\r\n",
        "plt.show()"
      ],
      "execution_count": null,
      "outputs": [
        {
          "output_type": "display_data",
          "data": {
            "image/png": "[encoded data removed]",
            "text/plain": [
              "<Figure size 1152x360 with 1 Axes>"
            ]
          },
          "metadata": {
            "tags": []
          }
        }
      ]
    },
    {
      "cell_type": "code",
      "metadata": {
        "id": "pLotkwfk1ZQs"
      },
      "source": [
        "loaded_model=pickle.load(open('/content/svmmodel.pkl','rb'))"
      ],
      "execution_count": null,
      "outputs": []
    },
    {
      "cell_type": "code",
      "metadata": {
        "colab": {
          "base_uri": "https://localhost:8080/"
        },
        "id": "REcJ9t_uhzG7",
        "outputId": "41f3697b-3572-4956-8699-55566a79f0ea"
      },
      "source": [
        "loaded_model.predict([np.array([1,0,30,3,0.6,0.6,9,960,2,2,0,1,0,0,0,0,0,0,1,0,0,0,0,0])])[0]"
      ],
      "execution_count": null,
      "outputs": [
        {
          "output_type": "execute_result",
          "data": {
            "text/plain": [
              "0"
            ]
          },
          "metadata": {
            "tags": []
          },
          "execution_count": 89
        }
      ]
    }
  ]
}